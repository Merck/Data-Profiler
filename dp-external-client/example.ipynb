{
 "cells": [
  {
   "cell_type": "code",
   "execution_count": null,
   "metadata": {},
   "outputs": [],
   "source": [
    "import pandas as pd\n",
    "import dp_external_client as dpec"
   ]
  },
  {
   "cell_type": "code",
   "execution_count": null,
   "metadata": {},
   "outputs": [],
   "source": [
    "## adjust the url below to access the different profiler environments\n",
    "url =\"https://preview-api.dataprofiler.com\"\n",
    "## you need to insert your own profiler API key here\n",
    "api_key = ''"
   ]
  },
  {
   "cell_type": "markdown",
   "metadata": {},
   "source": [
    "## Environment\n",
    "### Creating an Environment Object:\n",
    "#### dpec.Environment(api_key=api_key, url=url)\n",
    "#### ex: env = dpec.Environment(api_key=api_key, url=url)\n",
    "### Environment Functions:\n",
    "#### getDatasetList(), getDatasetCount()\n",
    "#### ex: env.getDatasetCount()\n"
   ]
  },
  {
   "cell_type": "code",
   "execution_count": null,
   "metadata": {},
   "outputs": [],
   "source": [
    "env = dpec.Environment(api_key=api_key, url=url)"
   ]
  },
  {
   "cell_type": "code",
   "execution_count": null,
   "metadata": {},
   "outputs": [],
   "source": [
    "env.getDatasetCount()"
   ]
  },
  {
   "cell_type": "code",
   "execution_count": null,
   "metadata": {},
   "outputs": [],
   "source": []
  },
  {
   "cell_type": "markdown",
   "metadata": {},
   "source": [
    "## Dataset\n",
    "### Creating a Dataset Object (you need to first make an Environment object):\n",
    "#### dpec.Dataset(environment=env, dataset_name=dataset_name)\n",
    "#### ex: dataset = dpec.Dataset(environment=env, dataset_name=\"Athlete Attributes\")\n",
    "### Dataset Functions:\n",
    "#### getColumnCount(), getPullTimestamp(), getTableCount(), getTableList(),getUpdateDate(),getUploadDate(), getValueCount(), getVisibility(), importDataset()\n",
    "#### ex: dataset.getTableCount()"
   ]
  },
  {
   "cell_type": "code",
   "execution_count": null,
   "metadata": {},
   "outputs": [],
   "source": [
    "dataset = dpec.Dataset(environment=env, dataset_name=\"Athlete Attributes\")"
   ]
  },
  {
   "cell_type": "code",
   "execution_count": null,
   "metadata": {},
   "outputs": [],
   "source": [
    "dataset.getTableList()"
   ]
  },
  {
   "cell_type": "code",
   "execution_count": null,
   "metadata": {},
   "outputs": [],
   "source": []
  },
  {
   "cell_type": "markdown",
   "metadata": {},
   "source": [
    "## Table\n",
    "### Creating a Table Object:\n",
    "#### dpec.Table(environment=env, dataset_name=dataset_name, table_name=table_name)\n",
    "#### ex: table = dpec.Table(environment=env, dataset_name=\"Athlete Attributes\", table_name=\"athlete_attributes\")\n",
    "### Table Functions:\n",
    "#### getColumnCount(), getColumnList(), getPullTimestamp(), getTableCount(), getUpdateDate(), getUploadDate(), getValueCount(), getVisibility()\n",
    "#### ex: table.getColumnCount()\n",
    "#### loadRows(), loadRowsInRange(min, max, column), loadRowsWithSubstringMatches(substring_filter_dict)\n",
    "#### ex: table.loadRowsInRange(200, 210, \"weight\")\n",
    "#### ex: table.loadRowsWithSubstringMatches({\"weight\":[\"20\"]}) -- this will load all rows that contain the substring \"20\"\n",
    "#### setFilters({\"column_name\": [\"value1\", \"value2\"], \"column_name_2\": [\"value0\"]})\n",
    "#### ex: table.setFilters({\"weight\": [\"200\", \"201\"]})"
   ]
  },
  {
   "cell_type": "code",
   "execution_count": null,
   "metadata": {},
   "outputs": [],
   "source": [
    "table = dpec.Table(environment=env, dataset_name=\"Athlete Attributes\", table_name=\"athlete_attributes\")"
   ]
  },
  {
   "cell_type": "code",
   "execution_count": null,
   "metadata": {},
   "outputs": [],
   "source": [
    "tb_df = table.loadRows()\n",
    "tb_df.shape"
   ]
  },
  {
   "cell_type": "code",
   "execution_count": null,
   "metadata": {},
   "outputs": [],
   "source": [
    "tb_df = table.loadRowsWithSubstringMatches({\"weight\":[\"20\"]})\n",
    "tb_df.shape"
   ]
  },
  {
   "cell_type": "code",
   "execution_count": null,
   "metadata": {},
   "outputs": [],
   "source": [
    "tb_df = table.loadRowsInRange(200, 210, \"weight\")\n",
    "tb_df.shape"
   ]
  },
  {
   "cell_type": "markdown",
   "metadata": {},
   "source": [
    "## Column\n",
    "### Creating a Column Object:\n",
    "#### dpec.Column(environment=env, dataset_name=dataset_name, table_name=table_name, column_name=column_name)\n",
    "#### ex: column = dpec.Column(environment=env, dataset_name=\"Athlete Attributes\", table_name=\"athlete_attributes\", column_name=\"weight\")\n",
    "### Column Functions:\n",
    "#### getColumnDataType(), getUniqueValueCount(), getValueCount(), getVisibility(), listColumnCounts()\n",
    "#### ex: column.getValueCount()"
   ]
  },
  {
   "cell_type": "code",
   "execution_count": null,
   "metadata": {},
   "outputs": [],
   "source": [
    "column = dpec.Column(environment=env, dataset_name=\"Athlete Attributes\", table_name=\"athlete_attributes\", column_name=\"weight\")"
   ]
  },
  {
   "cell_type": "code",
   "execution_count": null,
   "metadata": {},
   "outputs": [],
   "source": [
    "column.getValueCount()"
   ]
  },
  {
   "cell_type": "code",
   "execution_count": null,
   "metadata": {},
   "outputs": [],
   "source": [
    "column.getUniqueValueCount()"
   ]
  },
  {
   "cell_type": "markdown",
   "metadata": {},
   "source": [
    "## Omni Search\n",
    "### Creating an Omni Object:\n",
    "#### dpec.Omnisearch(environment=env, search_str=search_str)\n",
    "#### ex: omni = dpec.Omnisearch(environment=env, search_str=\"flatiron\")\n",
    "### Omni Functions\n",
    "#### getAllMatches(), getColumnMatches(), getDatasetMatches(), getTableMatches(), getValueMatches()\n",
    "#### ex: omni.getDatasetMatches()\n",
    "#### getNumAllMatches(), getNumColumnMatches(), getNumDatasetMatches(), getNumTableMatches(), getNumValueMatches()\n",
    "#### ex: omni.getNumValueMatches()"
   ]
  },
  {
   "cell_type": "code",
   "execution_count": null,
   "metadata": {},
   "outputs": [],
   "source": [
    "omni = dpec.Omnisearch(environment=env, search_str=\"flatiron\")"
   ]
  },
  {
   "cell_type": "code",
   "execution_count": null,
   "metadata": {},
   "outputs": [],
   "source": [
    "omni.getDatasetMatches()"
   ]
  },
  {
   "cell_type": "code",
   "execution_count": null,
   "metadata": {},
   "outputs": [],
   "source": [
    "omni.getNumValueMatches()"
   ]
  },
  {
   "cell_type": "code",
   "execution_count": null,
   "metadata": {},
   "outputs": [],
   "source": [
    "omni.getAllMatches()"
   ]
  },
  {
   "cell_type": "code",
   "execution_count": null,
   "metadata": {},
   "outputs": [],
   "source": [
    "omni.getNumAllMatches()"
   ]
  },
  {
   "cell_type": "code",
   "execution_count": null,
   "metadata": {},
   "outputs": [],
   "source": [
    "omni.getNumValueMatches()"
   ]
  },
  {
   "cell_type": "code",
   "execution_count": null,
   "metadata": {},
   "outputs": [],
   "source": [
    "omni.getNumDatasetMatches()"
   ]
  },
  {
   "cell_type": "code",
   "execution_count": null,
   "metadata": {},
   "outputs": [],
   "source": []
  }
 ],
 "metadata": {
  "kernelspec": {
   "display_name": "Python 3",
   "language": "python",
   "name": "python3"
  },
  "language_info": {
   "codemirror_mode": {
    "name": "ipython",
    "version": 3
   },
   "file_extension": ".py",
   "mimetype": "text/x-python",
   "name": "python",
   "nbconvert_exporter": "python",
   "pygments_lexer": "ipython3",
   "version": "3.7.3"
  }
 },
 "nbformat": 4,
 "nbformat_minor": 4
}
