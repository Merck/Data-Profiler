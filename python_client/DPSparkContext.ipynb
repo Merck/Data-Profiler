{
 "cells": [
  {
   "cell_type": "code",
   "execution_count": null,
   "metadata": {},
   "outputs": [],
   "source": [
    "import os\n",
    "os.environ['PYSPARK_SUBMIT_ARGS'] = '--jars ../lib/tools/dataprofiler-tools-current.jar pyspark-shell'\n",
    "\n",
    "import sys\n",
    "sys.path.extend(['/usr/hdp/current/spark2-client/python/lib/py4j-0.10.4-src.zip', '/usr/hdp/current/spark2-client/python'])\n",
    "\n",
    "import json\n",
    "import pyspark\n",
    "from pyspark.sql import SparkSession\n",
    "from pyspark import SparkContext\n",
    "from pyspark import SparkConf\n",
    "from pyspark.sql.functions import lit"
   ]
  },
  {
   "cell_type": "code",
   "execution_count": null,
   "metadata": {},
   "outputs": [],
   "source": [
    "# Create a SparkConf with necessary serializers\n",
    "conf = [('spark.serializer','org.apache.spark.serializer.KryoSerializer'),\n",
    "       ('spark.sql.orc.enabled','true'),\n",
    "       ('spark.kryo.classesToRegister','org.apache.accumulo.core.data.Value,org.apache.accumulo.core.data.Key')]\n",
    "\n",
    "sparkConf = pyspark.SparkConf()\n",
    "sparkConf.setAll(conf)\n",
    "\n",
    "# Create the Spark context\n",
    "sc = pyspark.SparkContext(appName='dpspark', conf=sparkConf)\n",
    "spark = SparkSession(sc)"
   ]
  },
  {
   "cell_type": "code",
   "execution_count": null,
   "metadata": {},
   "outputs": [],
   "source": [
    "# Create a DPSparkContext object\n",
    "dpSparkContext = sc._jvm.com.dataprofiler.DPSparkContext(sc._jsc)"
   ]
  },
  {
   "cell_type": "code",
   "execution_count": null,
   "metadata": {},
   "outputs": [],
   "source": [
    "# Read in soem data\n",
    "data_scan = {\"type\": \"row\",\n",
    "             \"dataset\": \"police-department-calls-for-service\",\n",
    "             \"table\": \"policedepartmentcallsforservice\",\n",
    "            }\n",
    "\n",
    "rowsRdd = sc.newAPIHadoopRDD(\"com.dataprofiler.RowInputFormat\",\n",
    "                         \"java.lang.String\",\n",
    "                         \"java.lang.String\",\n",
    "                             conf={\"DataProfiler.dataScanSpec\": json.dumps(data_scan)})"
   ]
  },
  {
   "cell_type": "code",
   "execution_count": null,
   "metadata": {},
   "outputs": [],
   "source": [
    "# Convert to a dataframe\n",
    "def rowsFlat(t):\n",
    "    return pyspark.sql.Row(**json.loads(t[1]))\n",
    "\n",
    "rowsDf = rowsRdd.map(rowsFlat).toDF()\n",
    "\n",
    "rowsDf.printSchema()\n",
    "\n",
    "%time print(rowsDf.count())\n",
    "rowsDf.show()"
   ]
  },
  {
   "cell_type": "code",
   "execution_count": null,
   "metadata": {},
   "outputs": [],
   "source": [
    "# Perform some SQL\n",
    "rowsDf.createOrReplaceTempView(\"calls\")\n",
    "filtered = spark.sql(\"SELECT Disposition,`Offense Date`,`Original Crime Type Name`,City from calls where (`City`='Yerba Buena') AND (`Disposition`='NOM' OR `Disposition`='ADV')\")\n",
    "%time print(filtered.count())\n",
    "filtered.show()"
   ]
  },
  {
   "cell_type": "code",
   "execution_count": null,
   "metadata": {},
   "outputs": [],
   "source": [
    "sc._jvm.com.dataprofiler.TableLoader.loadFromPyspark(dpSparkContext,\n",
    "                                                           filtered._jdf,\n",
    "                                                           \"zach_test\",\n",
    "                                                           \"pyspark_sample\",\n",
    "                                                           False,\n",
    "                                                           \"LIST.Public_Data\",\n",
    "                                                           10000,\n",
    "                                                           False)"
   ]
  }
 ],
 "metadata": {
  "kernelspec": {
   "display_name": "Python 3",
   "language": "python",
   "name": "python3"
  },
  "language_info": {
   "codemirror_mode": {
    "name": "ipython",
    "version": 3
   },
   "file_extension": ".py",
   "mimetype": "text/x-python",
   "name": "python",
   "nbconvert_exporter": "python",
   "pygments_lexer": "ipython3",
   "version": "3.7.2"
  }
 },
 "nbformat": 4,
 "nbformat_minor": 2
}
