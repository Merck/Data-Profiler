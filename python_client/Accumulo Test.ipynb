{
 "cells": [
  {
   "cell_type": "code",
   "execution_count": 1,
   "metadata": {},
   "outputs": [],
   "source": [
    "import os\n",
    "os.environ['PYSPARK_SUBMIT_ARGS'] = '--jars ../lib/tools/dataprofiler-tools-current.jar pyspark-shell'\n",
    "\n",
    "import sys\n",
    "sys.path.extend(['/usr/hdp/current/spark2-client/python/lib/py4j-0.10.4-src.zip', '/usr/hdp/current/spark2-client/python'])\n",
    "\n",
    "import json\n",
    "import pyspark\n",
    "from pyspark.sql import SparkSession\n",
    "from pyspark import SparkContext\n",
    "from pyspark.sql.functions import lit\n",
    "\n",
    "sc = pyspark.SparkContext(appName=\"Test\")\n",
    "spark = SparkSession(sc)\n",
    "\n"
   ]
  },
  {
   "cell_type": "code",
   "execution_count": 2,
   "metadata": {},
   "outputs": [],
   "source": [
    "# Set the dataset, table, and column to be requested\n",
    "conf = {\"DataProfiler.dataset\": \"police-department-calls-for-service\",\n",
    "        \"DataProfiler.table\": \"policedepartmentcallsforservice\",\n",
    "        \"DataProfiler.column\": \"City\"\n",
    "       }\n",
    "\n",
    "rdd = sc.newAPIHadoopRDD(\"com.dataprofiler.ColumnCountInputFormat\",\n",
    "                         \"java.lang.String\",\n",
    "                         \"java.lang.String\",\n",
    "                             conf=conf)"
   ]
  },
  {
   "cell_type": "code",
   "execution_count": 3,
   "metadata": {},
   "outputs": [
    {
     "name": "stdout",
     "output_type": "stream",
     "text": [
      "+------+-------+--------------------+---------+--------------------+-------------+----------------+\n",
      "|column|  count|             dataset|sortOrder|               table|        value|      visibility|\n",
      "+------+-------+--------------------+---------+--------------------+-------------+----------------+\n",
      "|  City|  56805|police-department...|  VAL_ASC|policedepartmentc...|             |LIST.Public_Data|\n",
      "|  City|     40|police-department...|  VAL_ASC|policedepartmentc...|     Brisbane|LIST.Public_Data|\n",
      "|  City|   1011|police-department...|  VAL_ASC|policedepartmentc...|    Daly City|LIST.Public_Data|\n",
      "|  City|     64|police-department...|  VAL_ASC|policedepartmentc...|   Fort Mason|LIST.Public_Data|\n",
      "|  City|    574|police-department...|  VAL_ASC|policedepartmentc...|Hunters Point|LIST.Public_Data|\n",
      "|  City|    531|police-department...|  VAL_ASC|policedepartmentc...|     Presidio|LIST.Public_Data|\n",
      "|  City|1990096|police-department...|  VAL_ASC|policedepartmentc...|San Francisco|LIST.Public_Data|\n",
      "|  City|  10169|police-department...|  VAL_ASC|policedepartmentc...|Treasure Isla|LIST.Public_Data|\n",
      "|  City|   1293|police-department...|  VAL_ASC|policedepartmentc...|  Yerba Buena|LIST.Public_Data|\n",
      "+------+-------+--------------------+---------+--------------------+-------------+----------------+\n",
      "\n"
     ]
    }
   ],
   "source": [
    "# Convert the RDD into a DF\n",
    "def flat(t):\n",
    "    return pyspark.sql.Row(**json.loads(t[1]))\n",
    "\n",
    "df = rdd.map(flat).toDF()\n",
    "\n",
    "df.show()"
   ]
  },
  {
   "cell_type": "code",
   "execution_count": 4,
   "metadata": {},
   "outputs": [
    {
     "name": "stdout",
     "output_type": "stream",
     "text": [
      "+------+-------+--------------------+---------+--------------------+-------------+----------------+\n",
      "|column|  count|             dataset|sortOrder|               table|        value|      visibility|\n",
      "+------+-------+--------------------+---------+--------------------+-------------+----------------+\n",
      "|  City|  56805|police-department...|  VAL_ASC|policedepartmentc...|             |LIST.Public_Data|\n",
      "|  City|   1011|police-department...|  VAL_ASC|policedepartmentc...|    Daly City|LIST.Public_Data|\n",
      "|  City|1990096|police-department...|  VAL_ASC|policedepartmentc...|San Francisco|LIST.Public_Data|\n",
      "|  City|  10169|police-department...|  VAL_ASC|policedepartmentc...|Treasure Isla|LIST.Public_Data|\n",
      "|  City|   1293|police-department...|  VAL_ASC|policedepartmentc...|  Yerba Buena|LIST.Public_Data|\n",
      "+------+-------+--------------------+---------+--------------------+-------------+----------------+\n",
      "\n"
     ]
    }
   ],
   "source": [
    "#only keep values Greater than 1k\n",
    "filteredOut = df.filter(df['count'] >= 1000)\n",
    "filteredOut.show()"
   ]
  },
  {
   "cell_type": "code",
   "execution_count": 5,
   "metadata": {},
   "outputs": [
    {
     "name": "stdout",
     "output_type": "stream",
     "text": [
      "+------+-------+-------+---------+--------------------+-------------+----------------+\n",
      "|column|  count|dataset|sortOrder|               table|        value|      visibility|\n",
      "+------+-------+-------+---------+--------------------+-------------+----------------+\n",
      "|  City|  56805|   zach|  VAL_ASC|policedepartmentc...|             |LIST.Public_Data|\n",
      "|  City|   1011|   zach|  VAL_ASC|policedepartmentc...|    Daly City|LIST.Public_Data|\n",
      "|  City|1990096|   zach|  VAL_ASC|policedepartmentc...|San Francisco|LIST.Public_Data|\n",
      "|  City|  10169|   zach|  VAL_ASC|policedepartmentc...|Treasure Isla|LIST.Public_Data|\n",
      "|  City|   1293|   zach|  VAL_ASC|policedepartmentc...|  Yerba Buena|LIST.Public_Data|\n",
      "+------+-------+-------+---------+--------------------+-------------+----------------+\n",
      "\n"
     ]
    }
   ],
   "source": [
    "# Change the dataset column to 'zach'\n",
    "changedName = filteredOut.withColumn('dataset', lit('zach'))\n",
    "changedName.show()"
   ]
  },
  {
   "cell_type": "code",
   "execution_count": 6,
   "metadata": {},
   "outputs": [
    {
     "data": {
      "text/plain": [
       "[('data',\n",
       "  '{\"column\": \"City\", \"count\": 56805, \"dataset\": \"zach\", \"sortOrder\": \"VAL_ASC\", \"table\": \"policedepartmentcallsforservice\", \"value\": \"\", \"visibility\": \"LIST.Public_Data\"}'),\n",
       " ('data',\n",
       "  '{\"column\": \"City\", \"count\": 1011, \"dataset\": \"zach\", \"sortOrder\": \"VAL_ASC\", \"table\": \"policedepartmentcallsforservice\", \"value\": \"Daly City\", \"visibility\": \"LIST.Public_Data\"}'),\n",
       " ('data',\n",
       "  '{\"column\": \"City\", \"count\": 1990096, \"dataset\": \"zach\", \"sortOrder\": \"VAL_ASC\", \"table\": \"policedepartmentcallsforservice\", \"value\": \"San Francisco\", \"visibility\": \"LIST.Public_Data\"}'),\n",
       " ('data',\n",
       "  '{\"column\": \"City\", \"count\": 10169, \"dataset\": \"zach\", \"sortOrder\": \"VAL_ASC\", \"table\": \"policedepartmentcallsforservice\", \"value\": \"Treasure Isla\", \"visibility\": \"LIST.Public_Data\"}'),\n",
       " ('data',\n",
       "  '{\"column\": \"City\", \"count\": 1293, \"dataset\": \"zach\", \"sortOrder\": \"VAL_ASC\", \"table\": \"policedepartmentcallsforservice\", \"value\": \"Yerba Buena\", \"visibility\": \"LIST.Public_Data\"}')]"
      ]
     },
     "execution_count": 6,
     "metadata": {},
     "output_type": "execute_result"
    }
   ],
   "source": [
    "# Convert the DF to kvp RDD\n",
    "pair_rdd = changedName.rdd.map(lambda t: ('data', json.dumps(t.asDict())))\n",
    "pair_rdd.collect()"
   ]
  },
  {
   "cell_type": "code",
   "execution_count": 7,
   "metadata": {},
   "outputs": [],
   "source": [
    "pair_rdd.saveAsNewAPIHadoopFile(\"/\",\"com.dataprofiler.ColumnCountOutputFormat\")"
   ]
  },
  {
   "cell_type": "code",
   "execution_count": 9,
   "metadata": {},
   "outputs": [],
   "source": [
    "data_scan = {\"type\": \"row\",\n",
    "             \"dataset\": \"police-department-calls-for-service\",\n",
    "             \"table\": \"policedepartmentcallsforservice\",\n",
    "            }\n",
    "\n",
    "rowsRdd = sc.newAPIHadoopRDD(\"com.dataprofiler.RowInputFormat\",\n",
    "                         \"java.lang.String\",\n",
    "                         \"java.lang.String\",\n",
    "                             conf={\"DataProfiler.dataScanSpec\": json.dumps(data_scan)})\n"
   ]
  },
  {
   "cell_type": "code",
   "execution_count": 13,
   "metadata": {},
   "outputs": [
    {
     "data": {
      "text/plain": [
       "[('police-department-calls-for-service\\x00policedepartmentcallsforservice\\x00\\x08�\\x00\\x00\\x00\\x00\\x00\\x00\\x00',\n",
       "  '{\"Address Type\":\"Intersection\",\"Original Crime Type Name\":\"Noise Nuisance\",\"Address\":\"Haight St/cole St\",\"City\":\"San Francisco\",\"Report Date\":\"2016-04-03T00:00:00\",\"State\":\"CA\",\"Disposition\":\"ADM\",\"Agency Id\":\"1\",\"Crime Id\":\"160943347\",\"Call Date\":\"2016-04-03T00:00:00\",\"Offense Date\":\"2016-04-03T00:00:00\",\"Common Location\\\\r\":\"\\\\r\",\"Call Time\":\"21:00\",\"Call Date Time\":\"2016-04-03T21:00:00\"}')]"
      ]
     },
     "execution_count": 13,
     "metadata": {},
     "output_type": "execute_result"
    }
   ],
   "source": [
    "rowsRdd.take(1)"
   ]
  },
  {
   "cell_type": "code",
   "execution_count": 10,
   "metadata": {},
   "outputs": [
    {
     "name": "stdout",
     "output_type": "stream",
     "text": [
      "root\n",
      " |-- Address: string (nullable = true)\n",
      " |-- Address Type: string (nullable = true)\n",
      " |-- Agency Id: string (nullable = true)\n",
      " |-- Call Date: string (nullable = true)\n",
      " |-- Call Date Time: string (nullable = true)\n",
      " |-- Call Time: string (nullable = true)\n",
      " |-- City: string (nullable = true)\n",
      ": string (nullable = true)\n",
      " |-- Crime Id: string (nullable = true)\n",
      " |-- Disposition: string (nullable = true)\n",
      " |-- Offense Date: string (nullable = true)\n",
      " |-- Original Crime Type Name: string (nullable = true)\n",
      " |-- Report Date: string (nullable = true)\n",
      " |-- State: string (nullable = true)\n",
      "\n",
      "2060583\n",
      "CPU times: user 9.14 ms, sys: 3.78 ms, total: 12.9 ms\n",
      "Wall time: 1min 26s\n",
      "+--------------------+---------------+---------+-------------------+-------------------+---------+-------------+--------------------+---------+------------+-------------------+------------------------+-------------------+-----+\n",
      "| Crime Id| Disposition|       Offense Date|Original Crime Type Name|        Report Date|State|me|         City|    Common Location\n",
      "+--------------------+---------------+---------+-------------------+-------------------+---------+-------------+--------------------+---------+------------+-------------------+------------------------+-------------------+-----+\n",
      "|160943347|         ADM|2016-04-03T00:00:00|          Noise Nuisance|2016-04-03T00:00:00|   CA|00|San Francisco|                   \n",
      "|182673341|Not recorded|2018-09-24T00:00:00|            Passing Call|2018-09-24T00:00:00|   CA|03|San Francisco|                   \n",
      "|182673405|         CIT|2018-09-24T00:00:00|            Traffic Stop|2018-09-24T00:00:00|   CA|23|San Francisco|                   \n",
      "|182673471|          ND|2018-09-24T00:00:00|               Vandalism|2018-09-24T00:00:00|   CA|41|San Francisco|                   \n",
      "|182673552|         ABA|2018-09-24T00:00:00|         Fight No Weapon|2018-09-24T00:00:00|   CA|07|San Francisco|                   \n",
      "|182673610|Not recorded|2018-09-24T00:00:00|            Passing Call|2018-09-24T00:00:00|   CA|23|San Francisco| Haight St Corridor\n",
      "|500 Block Of Grea...|Common Location|        1|2018-09-24T00:00:00|2018-09-24T20:53:00|    20:53|San Francisco|Ocean Beach Stair...|182673691|         HAN|2018-09-24T00:00:00|            Passing Call|2018-09-24T00:00:00|   CA|\n",
      "|182673765|          ND|2018-09-24T00:00:00|            Person W/gun|2018-09-24T00:00:00|   CA|15|San Francisco|                   \n",
      "|182673832|         HAN|2018-09-24T00:00:00|      Fight No Weapon Dv|2018-09-24T00:00:00|   CA|33|San Francisco|                   \n",
      "|182673905|         CIT|2018-09-24T00:00:00|            Traffic Stop|2018-09-24T00:00:00|   CA|03|San Francisco|                   \n",
      "|182673965|         HAN|2018-09-24T00:00:00|            Passing Call|2018-09-24T00:00:00|   CA|24|San Francisco|                   \n",
      "|182674025|         CIT|2018-09-24T00:00:00|            Traffic Stop|2018-09-24T00:00:00|   CA|49|San Francisco|                   \n",
      "|182674101|         HAN|2018-09-24T00:00:00|          Meet W/citizen|2018-09-24T00:00:00|   CA|16|San Francisco|                   \n",
      "|160931104|         CIT|2016-04-02T00:00:00|            Traffic Stop|2016-04-02T00:00:00|   CA|58|San Francisco|                   \n",
      "|160933869|         HAN|2016-04-02T00:00:00|                   Party|2016-04-02T00:00:00|   CA|08|San Francisco|                   \n",
      "|100 Block Of Chri...|Common Location|        1|2016-04-03T00:00:00|2016-04-03T16:21:00|    16:21|San Francisco|Twin Peaks Viewpo...|160942483|         REP|2016-04-03T00:00:00|      Auto Boost / Strip|2016-04-03T00:00:00|   CA|\n",
      "|160922303|         CIT|2016-04-01T00:00:00|                  22500e|2016-04-01T00:00:00|   CA|42|San Francisco|                   \n",
      "|160942828|Not recorded|2016-04-03T00:00:00|            Passing Call|2016-04-03T00:00:00|   CA|58|San Francisco|                   \n",
      "|160943162|         HAN|2016-04-03T00:00:00|      Mentally Disturbed|2016-04-03T00:00:00|   CA|47|San Francisco|                   \n",
      "|160933667|         ADV|2016-04-02T00:00:00|      Auto Boost / Strip|2016-04-02T00:00:00|   CA|12|San Francisco|                   \n",
      "+--------------------+---------------+---------+-------------------+-------------------+---------+-------------+--------------------+---------+------------+-------------------+------------------------+-------------------+-----+\n",
      "only showing top 20 rows\n",
      "\n"
     ]
    }
   ],
   "source": [
    "def rowsFlat(t):\n",
    "    return pyspark.sql.Row(**json.loads(t[1]))\n",
    "\n",
    "rowsDf = rowsRdd.map(rowsFlat).toDF()\n",
    "\n",
    "rowsDf.printSchema()\n",
    "\n",
    "%time print(rowsDf.count())\n",
    "rowsDf.show()"
   ]
  },
  {
   "cell_type": "code",
   "execution_count": 11,
   "metadata": {},
   "outputs": [
    {
     "name": "stdout",
     "output_type": "stream",
     "text": [
      "41\n",
      "CPU times: user 8.29 ms, sys: 6 ms, total: 14.3 ms\n",
      "Wall time: 1min 23s\n",
      "+-----------+-------------------+------------------------+-----------+\n",
      "|Disposition|       Offense Date|Original Crime Type Name|       City|\n",
      "+-----------+-------------------+------------------------+-----------+\n",
      "|        ADV|2018-09-14T00:00:00|      Suspicious Vehicle|Yerba Buena|\n",
      "|        ADV|2017-08-18T00:00:00|                Reckless|Yerba Buena|\n",
      "|        ADV|2016-05-15T00:00:00|      Suspicious Vehicle|Yerba Buena|\n",
      "|        ADV|2016-08-18T00:00:00|               Tx To Chp|Yerba Buena|\n",
      "|        ADV|2016-06-04T00:00:00|              Trespasser|Yerba Buena|\n",
      "|        NOM|2017-04-06T00:00:00|              Aided Case|Yerba Buena|\n",
      "|        ADV|2018-01-04T00:00:00|                    Poss|Yerba Buena|\n",
      "|        ADV|2016-09-30T00:00:00|          Meet W/citizen|Yerba Buena|\n",
      "|        ADV|2017-03-16T00:00:00|                    Poss|Yerba Buena|\n",
      "|        ADV|2017-12-24T00:00:00|      Suspicious Vehicle|Yerba Buena|\n",
      "|        ADV|2016-12-16T00:00:00|      Suspicious Vehicle|Yerba Buena|\n",
      "|        NOM|2017-04-28T00:00:00|        Well Being Check|Yerba Buena|\n",
      "|        NOM|2016-09-27T00:00:00|          Person W/knife|Yerba Buena|\n",
      "|        ADV|2017-07-22T00:00:00|       Suspicious Person|Yerba Buena|\n",
      "|        NOM|2017-10-21T00:00:00|                    Poss|Yerba Buena|\n",
      "|        ADV|2018-01-27T00:00:00|      Suspicious Vehicle|Yerba Buena|\n",
      "|        ADV|2016-06-11T00:00:00|       Suspicious Person|Yerba Buena|\n",
      "|        ADV|2016-08-14T00:00:00|          Complaint Unkn|Yerba Buena|\n",
      "|        ADV|2018-08-31T00:00:00|                    Poss|Yerba Buena|\n",
      "|        ADV|2018-02-10T00:00:00|       Assault / Battery|Yerba Buena|\n",
      "+-----------+-------------------+------------------------+-----------+\n",
      "only showing top 20 rows\n",
      "\n"
     ]
    }
   ],
   "source": [
    "rowsDf.createOrReplaceTempView(\"calls\")\n",
    "filtered = spark.sql(\"SELECT Disposition,`Offense Date`,`Original Crime Type Name`,City from calls where (`City`='Yerba Buena') AND (`Disposition`='NOM' OR `Disposition`='ADV')\")\n",
    "%time print(filtered.count())\n",
    "filtered.show()"
   ]
  },
  {
   "cell_type": "code",
   "execution_count": null,
   "metadata": {},
   "outputs": [],
   "source": [
    "data_scan_filtered = {\"type\": \"row\",\n",
    "             \"dataset\": \"police-department-calls-for-service\",\n",
    "             \"table\": \"policedepartmentcallsforservice\",\n",
    "             \"filters\": {\n",
    "                 \"City\": [\"Yerba Buena\"]\n",
    "             }\n",
    "            }\n",
    "\n",
    "rowsRddFiltered = sc.newAPIHadoopRDD(\"com.dataprofiler.RowInputFormat\",\n",
    "                         \"java.lang.String\",\n",
    "                         \"java.lang.String\",\n",
    "                             conf={\"DataProfiler.dataScanSpec\": json.dumps(data_scan_filtered)})"
   ]
  },
  {
   "cell_type": "code",
   "execution_count": null,
   "metadata": {},
   "outputs": [],
   "source": [
    "rowsDfFiltered = rowsRddFiltered.map(rowsFlat).toDF()\n",
    "\n",
    "rowsDfFiltered.printSchema()\n",
    "\n",
    "%time print(rowsDfFiltered.count())\n",
    "\n",
    "rowsDfFiltered.show()"
   ]
  },
  {
   "cell_type": "code",
   "execution_count": null,
   "metadata": {},
   "outputs": [],
   "source": [
    "rowsDfFiltered.createOrReplaceTempView(\"calls2\")\n",
    "filtered2 = spark.sql(\"SELECT Disposition,`Offense Date`,`Original Crime Type Name`,City from calls2 where (`City`='Yerba Buena') AND (`Disposition`='NOM' OR `Disposition`='ADV')\")\n",
    "%time print(filtered2.count())\n",
    "filtered2.show(50)\n",
    "\n"
   ]
  }
 ],
 "metadata": {
  "kernelspec": {
   "display_name": "Python 3",
   "language": "python",
   "name": "python3"
  },
  "language_info": {
   "codemirror_mode": {
    "name": "ipython",
    "version": 3
   },
   "file_extension": ".py",
   "mimetype": "text/x-python",
   "name": "python",
   "nbconvert_exporter": "python",
   "pygments_lexer": "ipython3",
   "version": "3.7.2"
  }
 },
 "nbformat": 4,
 "nbformat_minor": 2
}
